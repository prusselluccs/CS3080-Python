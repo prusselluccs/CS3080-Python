{
  "nbformat": 4,
  "nbformat_minor": 0,
  "metadata": {
    "colab": {
      "provenance": [],
      "authorship_tag": "ABX9TyOBMO3xXmMGhn7ZWz36Etj2",
      "include_colab_link": true
    },
    "kernelspec": {
      "name": "python3",
      "display_name": "Python 3"
    },
    "language_info": {
      "name": "python"
    }
  },
  "cells": [
    {
      "cell_type": "markdown",
      "metadata": {
        "id": "view-in-github",
        "colab_type": "text"
      },
      "source": [
        "<a href=\"https://colab.research.google.com/github/prusselluccs/CS3080-Python/blob/main/CS3080_Lecture_01.ipynb\" target=\"_parent\"><img src=\"https://colab.research.google.com/assets/colab-badge.svg\" alt=\"Open In Colab\"/></a>"
      ]
    },
    {
      "cell_type": "markdown",
      "source": [
        "Notice that we do not have to declare the variable 'name'. We just assign a value to the variable and off we go. "
      ],
      "metadata": {
        "id": "Guy2A0fvr1Yz"
      }
    },
    {
      "cell_type": "code",
      "source": [
        "name = ''\n",
        "while name != 'Pam':\n",
        "  print('Please type your name.')\n",
        "  name = input()\n",
        "print('Thank you!')"
      ],
      "metadata": {
        "id": "YiX1_X-2H5Ry"
      },
      "execution_count": null,
      "outputs": []
    },
    {
      "cell_type": "markdown",
      "source": [
        "Python Operators & Common Data types"
      ],
      "metadata": {
        "id": "xC4zeUqvUmbv"
      }
    },
    {
      "cell_type": "code",
      "source": [
        "'Alice' + 'Bob'"
      ],
      "metadata": {
        "id": "ZttoNK-dUU1w"
      },
      "execution_count": null,
      "outputs": []
    },
    {
      "cell_type": "code",
      "source": [
        "'Alice' + 42"
      ],
      "metadata": {
        "id": "FG23jhW-UhuN"
      },
      "execution_count": null,
      "outputs": []
    },
    {
      "cell_type": "code",
      "source": [
        "10 * 5"
      ],
      "metadata": {
        "id": "MsI0i-I-VPcw"
      },
      "execution_count": null,
      "outputs": []
    },
    {
      "cell_type": "code",
      "source": [
        "'Alice' * 5"
      ],
      "metadata": {
        "id": "u_W2YGJGU2zv"
      },
      "execution_count": null,
      "outputs": []
    },
    {
      "cell_type": "code",
      "source": [
        "'Alice' * 'Bob'"
      ],
      "metadata": {
        "id": "UX5zK02gVZmL"
      },
      "execution_count": null,
      "outputs": []
    },
    {
      "cell_type": "code",
      "source": [
        "'Alice' * 5.0"
      ],
      "metadata": {
        "id": "WxcPL2ogVb0H"
      },
      "execution_count": null,
      "outputs": []
    },
    {
      "cell_type": "markdown",
      "source": [
        "Storing values in variables"
      ],
      "metadata": {
        "id": "ychSKRqkVl7r"
      }
    },
    {
      "cell_type": "code",
      "source": [
        "a,b,c = 1,2,\"john\"\n",
        "print(a,b,c)"
      ],
      "metadata": {
        "id": "_QRtjknxVpla"
      },
      "execution_count": null,
      "outputs": []
    },
    {
      "cell_type": "markdown",
      "source": [
        "Overwriting: The spam variable stores \"Hello\" unti you replace it with \"Goodbye\""
      ],
      "metadata": {
        "id": "hgjsOgF6V33u"
      }
    },
    {
      "cell_type": "code",
      "source": [
        "spam = 'Hello'\n",
        "print(spam)"
      ],
      "metadata": {
        "id": "SmnQGIpKIBgW"
      },
      "execution_count": null,
      "outputs": []
    },
    {
      "cell_type": "code",
      "source": [
        "print(spam)"
      ],
      "metadata": {
        "id": "te0n5AASYIFg"
      },
      "execution_count": null,
      "outputs": []
    },
    {
      "cell_type": "code",
      "source": [
        "spam = 'Goodbye'\n",
        "print(spam)"
      ],
      "metadata": {
        "id": "U6wWvt6JYNar"
      },
      "execution_count": null,
      "outputs": []
    },
    {
      "cell_type": "markdown",
      "source": [
        "Single Quotes vs Double Quotes"
      ],
      "metadata": {
        "id": "jq1QEdteWG2B"
      }
    },
    {
      "cell_type": "code",
      "source": [
        "print(\"hello\")"
      ],
      "metadata": {
        "id": "6Wms98adYn88"
      },
      "execution_count": null,
      "outputs": []
    },
    {
      "cell_type": "code",
      "source": [
        "print('hello')"
      ],
      "metadata": {
        "id": "jtPTB3b6Yrvq"
      },
      "execution_count": null,
      "outputs": []
    },
    {
      "cell_type": "code",
      "source": [
        "print(\"hello's\")"
      ],
      "metadata": {
        "id": "n2dWjSDMYuaH"
      },
      "execution_count": null,
      "outputs": []
    },
    {
      "cell_type": "code",
      "source": [
        "print('hello\"s')"
      ],
      "metadata": {
        "id": "5nVm5cfDZXM5"
      },
      "execution_count": null,
      "outputs": []
    },
    {
      "cell_type": "markdown",
      "source": [
        "First Program"
      ],
      "metadata": {
        "id": "aLb94ssLWZU0"
      }
    },
    {
      "cell_type": "code",
      "source": [
        "print('Hello World!')\n",
        "\n",
        "# ask for their name\n",
        "print('What is your name?')\n",
        "myName = input()\n",
        "print('It is good to meet you, ' + myName)"
      ],
      "metadata": {
        "id": "FnOPa9ZdaA6h"
      },
      "execution_count": null,
      "outputs": []
    },
    {
      "cell_type": "code",
      "source": [
        "# print the length of their name\n",
        "print('The length of your name is:')\n",
        "print(len(myName))"
      ],
      "metadata": {
        "id": "OXFwMWChaJ9k"
      },
      "execution_count": null,
      "outputs": []
    },
    {
      "cell_type": "code",
      "source": [
        "# ask for their age\n",
        "print('What is your age?')\n",
        "myAge = input()\n",
        "print('You will be ' + str(int(myAge) + 1) + ' in a year.')\n"
      ],
      "metadata": {
        "id": "OLskrsfUaNqa"
      },
      "execution_count": null,
      "outputs": []
    },
    {
      "cell_type": "markdown",
      "source": [
        "Flow Control"
      ],
      "metadata": {
        "id": "5Cyob3YGWk9y"
      }
    },
    {
      "cell_type": "markdown",
      "source": [
        "Comparison operators\n",
        "\n",
        "\n",
        "---\n",
        "The == operator (equal to) asks whether two values are the same\n",
        "\n",
        "\n",
        "---\n",
        "The = operator (assignment) puts the value on the right into the variable on the left"
      ],
      "metadata": {
        "id": "FgzW_D6iX5ze"
      }
    },
    {
      "cell_type": "code",
      "source": [
        "myAge = 29\n",
        "print(myAge)"
      ],
      "metadata": {
        "id": "B7P4AKQEXIV-"
      },
      "execution_count": null,
      "outputs": []
    },
    {
      "cell_type": "code",
      "source": [
        "if myAge == 29:\n",
        "  print(\"Yep you are\", myAge)\n",
        "else:\n",
        "  print(\"Nice try. Your age is: \", myAge)"
      ],
      "metadata": {
        "id": "nEC2E2OgXSZx"
      },
      "execution_count": null,
      "outputs": []
    },
    {
      "cell_type": "code",
      "source": [
        "while True:\n",
        "  print('Please type your name.')\n",
        "  name = input()\n",
        "  if name == 'Pam':\n",
        "    break\n",
        "\n",
        "print('Thank you!')"
      ],
      "metadata": {
        "id": "di7fvV7KfXaC"
      },
      "execution_count": null,
      "outputs": []
    },
    {
      "cell_type": "markdown",
      "source": [
        "Boolean operators: and, or, not\n",
        "\n",
        "\n",
        "---\n",
        "\n",
        "\n",
        "Evaluate down to a Boolean value: True or False"
      ],
      "metadata": {
        "id": "pquWk0a_iJdg"
      }
    },
    {
      "cell_type": "code",
      "source": [
        "if (5 < 6) and (6 < 7):\n",
        "  print('True')\n",
        "else:\n",
        "  print('False')\n",
        "\n",
        "if (1 == 2) or (2 == 2):\n",
        "  print('True')\n",
        "else:\n",
        "  print('False')"
      ],
      "metadata": {
        "id": "n98CGlfqqEGI"
      },
      "execution_count": null,
      "outputs": []
    },
    {
      "cell_type": "markdown",
      "source": [
        "if statements\n",
        "\n",
        "\n",
        "---\n",
        "\n",
        "Executes if the statement's condition is True\n",
        "\n",
        "\n",
        "---\n",
        "\n",
        "**else** is eecuted only when if statement's condition is False"
      ],
      "metadata": {
        "id": "7e86pNxWi6D8"
      }
    },
    {
      "cell_type": "code",
      "source": [
        "name = input()\n",
        "if name == 'Pam':\n",
        "  print('Hi, Pam.')\n",
        "else:\n",
        "  print('Hello, stranger.')\n",
        "print('Bye')"
      ],
      "metadata": {
        "id": "LFd9cwiOjDsP"
      },
      "execution_count": null,
      "outputs": []
    },
    {
      "cell_type": "markdown",
      "source": [
        "**elif** vs **if, else** statements"
      ],
      "metadata": {
        "id": "3UULbZ37lAEI"
      }
    },
    {
      "cell_type": "code",
      "source": [
        "age = int(input())\n",
        "name = input()\n",
        "if name == 'Alice':\n",
        "  print('Hi, Alice.')\n",
        "else:\n",
        "  if age < 12:\n",
        "    print('You are not Alice, kiddo.')"
      ],
      "metadata": {
        "id": "Y3qKG578lGAN"
      },
      "execution_count": null,
      "outputs": []
    },
    {
      "cell_type": "code",
      "source": [
        "if name == 'Alice':\n",
        "  print('Hi, Alice.')\n",
        "elif age < 12:\n",
        "  print('You are not Alice, kiddo.')"
      ],
      "metadata": {
        "id": "0658bBf0lVXm"
      },
      "execution_count": null,
      "outputs": []
    },
    {
      "cell_type": "code",
      "source": [
        "print('My name is ')\n",
        "for i in range(5):\n",
        "  print('Jimmy Five Times (' + str(i) + ')')"
      ],
      "metadata": {
        "id": "xFfW43Y6hDgY"
      },
      "execution_count": null,
      "outputs": []
    },
    {
      "cell_type": "markdown",
      "source": [
        "The code in a **while** clause will be executed over and over as long as while's statement condition is True"
      ],
      "metadata": {
        "id": "ggmYoIPfmpDB"
      }
    },
    {
      "cell_type": "code",
      "source": [
        "spam = 0\n",
        "while spam < 5:\n",
        "  print('Hello, world.')\n",
        "  spam = spam + 1"
      ],
      "metadata": {
        "id": "g9dE_CeFmyR_"
      },
      "execution_count": null,
      "outputs": []
    },
    {
      "cell_type": "markdown",
      "source": [
        "If the execution in a while reaches a **break** statement, it immediately exists the while loop."
      ],
      "metadata": {
        "id": "_hDrpzabm9fD"
      }
    },
    {
      "cell_type": "code",
      "source": [
        "while True:\n",
        "  print('Please type your name: ')\n",
        "  name = input()\n",
        "  if name == 'Pam':\n",
        "    break\n",
        "\n",
        "print('Thank you')"
      ],
      "metadata": {
        "id": "D-MvWBpknKIV"
      },
      "execution_count": null,
      "outputs": []
    },
    {
      "cell_type": "markdown",
      "source": [
        "The following has the same effect"
      ],
      "metadata": {
        "id": "FPY4-8iXnZFC"
      }
    },
    {
      "cell_type": "code",
      "source": [
        "name = ''\n",
        "while name != 'Pam':\n",
        "  print('Please type your name: ')\n",
        "  name = input()\n",
        "\n",
        "print('Thank you')"
      ],
      "metadata": {
        "id": "tskZVfFenuwn"
      },
      "execution_count": null,
      "outputs": []
    },
    {
      "cell_type": "markdown",
      "source": [
        "When the program execution reaches a **continue** statement, the program exection immediately jumps back to the start of the loop and reevalutes the loop's condition. (Similar to what happends when the execution reaches the end of the loop)"
      ],
      "metadata": {
        "id": "ZR4tpprNTgYY"
      }
    },
    {
      "cell_type": "code",
      "source": [
        "while True:\n",
        "  print('Who are you?')\n",
        "  name = input()\n",
        "  if name != 'Pam':\n",
        "    continue\n",
        "  print('Hello, Pam. What is the password? (It is a fish.)')\n",
        "  password = input()\n",
        "  if password == 'swordfish':\n",
        "    break\n",
        "print('Access granted.')"
      ],
      "metadata": {
        "id": "TBSNWzNofy9Z"
      },
      "execution_count": null,
      "outputs": []
    },
    {
      "cell_type": "markdown",
      "source": [
        "Truthy and Falsey values\n",
        "\n",
        "\n",
        "---\n",
        "When used in conditions, 0, 0.0 and '' (empty string) are considered False.\n"
      ],
      "metadata": {
        "id": "TFecngbLo3f3"
      }
    },
    {
      "cell_type": "code",
      "source": [
        "numOfGuests = int(input())\n",
        "if numOfGuests:\n",
        "  print('Be sure to have enough room for all your guests. ')\n",
        "else:\n",
        "  print('You do not have any guests.')"
      ],
      "metadata": {
        "id": "iokKK5ZGgfDR"
      },
      "execution_count": null,
      "outputs": []
    },
    {
      "cell_type": "markdown",
      "source": [
        "**for** loop statement"
      ],
      "metadata": {
        "id": "Q-yJUqsxpJcb"
      }
    },
    {
      "cell_type": "code",
      "source": [
        "print('My name is ')\n",
        "for i in range(12,16):\n",
        "  print('Jimmy Five Times (' + str(i) + ')')"
      ],
      "metadata": {
        "id": "2IEKIJYrhep-"
      },
      "execution_count": null,
      "outputs": []
    },
    {
      "cell_type": "markdown",
      "source": [
        "The code in the for loop's clause is run five times. The first time it rungs, the variable *i* is set to 0. After Python finishes an iteration through all the code indise the for loop's clause, the execution goes back to the top of the loop, and the for statement increments *i* by one."
      ],
      "metadata": {
        "id": "FCPLsTfipTCb"
      }
    },
    {
      "cell_type": "code",
      "source": [
        "print('My name is ')\n",
        "for i in range(0,10,2):\n",
        "  print('Jimmy Five Times (' + str(i) + ')')"
      ],
      "metadata": {
        "id": "u1L3zHtjhtZY"
      },
      "execution_count": null,
      "outputs": []
    },
    {
      "cell_type": "code",
      "source": [
        "print('My name is ')\n",
        "for i in range(5,-1,-1):\n",
        "  print('Jimmy Five Times (' + str(i) + ')')"
      ],
      "metadata": {
        "id": "peeSlEAeh3s_"
      },
      "execution_count": null,
      "outputs": []
    },
    {
      "cell_type": "code",
      "source": [
        "import random\n",
        "print(random.randint(1, 10))"
      ],
      "metadata": {
        "id": "aKrhzoHmiR2j"
      },
      "execution_count": null,
      "outputs": []
    }
  ]
}